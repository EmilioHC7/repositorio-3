{
 "cells": [
  {
   "cell_type": "code",
   "execution_count": null,
   "metadata": {},
   "outputs": [
    {
     "name": "stdout",
     "output_type": "stream",
     "text": [
      "{'A': 1, 'p': 1, 'r': 1, 'e': 2, 'n': 3, 'd': 2, 'i': 1, 'o': 2, 'P': 1, 'y': 1, 't': 1, 'h': 1}\n"
     ]
    }
   ],
   "source": [
    "# Pregunta 1: Contar frecuencia de letras en una cadena\n",
    "\n",
    "def contar_letras(cadena=\"Aprendiendo Python\"):\n",
    "    \"\"\"Devuelve un diccionario con la frecuencia de cada letra en la cadena, ignorando espacios.\"\"\"   \n",
    "    resultado = {} \n",
    "\n",
    "    for letra in cadena:\n",
    "        if letra != \" \":  # Ignorar espacios\n",
    "            resultado[letra] = resultado.get(letra, 0) + 1\n",
    "    \n",
    "    return resultado\n",
    "\n",
    "print(contar_letras(\"Aprendiendo Python\"))"
   ]
  },
  {
   "cell_type": "code",
   "execution_count": null,
   "metadata": {},
   "outputs": [
    {
     "name": "stdout",
     "output_type": "stream",
     "text": [
      "Lista original [2, 30, 33, 29, 7, 8]\n",
      "lista con el doble de cada numero [4, 60, 66, 58, 14, 16]\n"
     ]
    }
   ],
   "source": [
    "# Pregunta 2 Dada una lista de números, obtén una nueva lista con el doble de cada valor. Usa la función map()\n",
    "\n",
    "numeros = [2,30,33,29,7,8]\n",
    "numeros_al_doble = list(map(lambda x: x*2, numeros))\n",
    "\n",
    "print(\"Lista original\", numeros)\n",
    "print(\"lista con el doble de cada numero\", numeros_al_doble)"
   ]
  },
  {
   "cell_type": "code",
   "execution_count": null,
   "metadata": {},
   "outputs": [],
   "source": [
    "\"\"\"Pregunta 3 Escribe una función que tome una lista de palabras y una palabra objetivo como parámetros. \n",
    "La función debe devolver una lista con todas las palabras de la lista original que contengan la palabra objetivo.\"\"\"\n",
    "\n",
    "def filtrar_palabras(lista, objetivo):\n",
    "    return[palabra for palabra in lista if objetivo in palabra]\n",
    "\n",
    "palabras = [\"mover\", \"volver\", \"coger\", \"resolver\", \"tomar\"]\n",
    "objetivo = \"ver\""
   ]
  },
  {
   "cell_type": "code",
   "execution_count": 4,
   "metadata": {},
   "outputs": [
    {
     "name": "stdout",
     "output_type": "stream",
     "text": [
      "['mover', 'volver', 'resolver']\n"
     ]
    }
   ],
   "source": [
    "resultado3 = filtrar_palabras(palabras,objetivo)\n",
    "print(resultado3)"
   ]
  },
  {
   "cell_type": "code",
   "execution_count": 6,
   "metadata": {},
   "outputs": [],
   "source": [
    "# Pregunta 4 Genera una función que calcule la diferencia entre los valores de dos listas. Usa la función map()\n",
    "\n",
    "def diferencia_listas(lista1, lista2):\n",
    "    return list(map(lambda x, y: x-y, lista1, lista2))\n",
    "\n",
    "lista1 = [5,10,15,20,25]\n",
    "lista2 = [1,2,3,4,5]"
   ]
  },
  {
   "cell_type": "code",
   "execution_count": 7,
   "metadata": {},
   "outputs": [
    {
     "name": "stdout",
     "output_type": "stream",
     "text": [
      "[4, 8, 12, 16, 20]\n"
     ]
    }
   ],
   "source": [
    "resultado4 = diferencia_listas(lista1,lista2)\n",
    "print(resultado4)"
   ]
  },
  {
   "cell_type": "code",
   "execution_count": null,
   "metadata": {},
   "outputs": [],
   "source": [
    "\"\"\" Pregunta 5 Esribe una función que tome una lista de números como parámetro y un valor opcional nota_aprobado, \n",
    " que por defecto es 5. La función debe calcular la media de los números en la lista y determinar si\n",
    " la media es mayor o igual que nota aprobado. Si es así, el estado será \"aprobado\", de lo contrario, será \"suspenso\". \n",
    " La función debe devolver una tupla que contenga la media y el estado.\"\"\"\n",
    "notas = [5,7,8,5,7.5]\n",
    "\n",
    "def nota_estado(notas, nota_aprobado=5):\n",
    "    \"\"\"Calcular la media de una lista de numeros y determina si esta aprobada o suspendida\n",
    "\n",
    "    Args:\n",
    "        notas (int, float): Lista de numeros(notas)\n",
    "        nota_aprobado (int, float): Nota minima para aprobar (por defecto es 5)\n",
    "\n",
    "    Return: Tupla con la media y el estado (\"aprobado\" o \"suspendido\")\n",
    "    \"\"\"\n",
    "    media = sum(notas) / len(notas)\n",
    "    estado = \"aprobado\" if media >= nota_aprobado else \"suspendido\"\n",
    "    return (media, estado)"
   ]
  },
  {
   "cell_type": "code",
   "execution_count": 23,
   "metadata": {},
   "outputs": [
    {
     "name": "stdout",
     "output_type": "stream",
     "text": [
      "(6.5, 'aprobado')\n"
     ]
    }
   ],
   "source": [
    "resultado5 = nota_estado(notas)\n",
    "print(resultado5)"
   ]
  },
  {
   "cell_type": "code",
   "execution_count": 10,
   "metadata": {},
   "outputs": [
    {
     "name": "stdout",
     "output_type": "stream",
     "text": [
      "720\n"
     ]
    }
   ],
   "source": [
    "#Pregunta 6 Escribe una función que calcule el factorial de un número de manera recursiva.\n",
    "numero = 6\n",
    "\n",
    "def factorial(n):\n",
    "    \"\"\"Calcula el factorial de un número de manera recursiva.\n",
    "    Lanza un ValueError si el número es negativo.\"\"\"\n",
    "    if n < 0:\n",
    "        raise ValueError(\"Error, el número no puede ser negativo\")\n",
    "    if n == 0 or n == 1:\n",
    "        return 1\n",
    "    return n * factorial(n - 1)\n",
    "\n",
    "try:\n",
    "    print(factorial(6))\n",
    "except ValueError as resultado:\n",
    "    print(resultado)"
   ]
  },
  {
   "cell_type": "code",
   "execution_count": 34,
   "metadata": {},
   "outputs": [],
   "source": [
    "#Pregunta 7 Genera una función que convierta una lista de tuplas a una lista de strings. Usa la función map()\n",
    "tuplas = [(1, 2), (7, 8, 9), (\"Feliz\", \"Semana\")]\n",
    "\n",
    "def tuplas_a_strings(lista_tuplas):\n",
    "    return [\" \".join(map(str, t)) for t in lista_tuplas]"
   ]
  },
  {
   "cell_type": "code",
   "execution_count": 35,
   "metadata": {},
   "outputs": [
    {
     "name": "stdout",
     "output_type": "stream",
     "text": [
      "['1 2', '7 8 9', 'Feliz Semana']\n"
     ]
    }
   ],
   "source": [
    "resultado7 = tuplas_a_strings(tuplas)\n",
    "print(resultado7)"
   ]
  },
  {
   "cell_type": "code",
   "execution_count": null,
   "metadata": {},
   "outputs": [],
   "source": [
    "\"\"\"Pregunta 8 \n",
    " Escribe un programa que pida al usuario dos números e intente dividirlos. Si el usuario ingresa un valor no numérico o intenta dividir por cero, \n",
    "maneja esas excepciones de manera adecuada. Asegúrate de mostrar un mensaje indicando si la división fue exitosa o no.\"\"\"\n",
    "\n",
    "def dividir():\n",
    "    try:\n",
    "        num1 = float(input(\"ingrese el primer numero: \"))\n",
    "        num2 = float(input(\"ingrese el segundo numero: \"))\n",
    "        resultado8= num1/num2\n",
    "    except ValueError:\n",
    "        print(\"Error: Debes ingresar valores numericos\")\n",
    "    except ZeroDivisionError:\n",
    "        print(\"Error: No se puede dividir por cero\")\n",
    "    else:\n",
    "        print(f\"El resultado es: {resultado8}\")\n",
    "    finally:\n",
    "        print(\"Fin del programa\")\n",
    "\n"
   ]
  },
  {
   "cell_type": "code",
   "execution_count": null,
   "metadata": {},
   "outputs": [
    {
     "name": "stdout",
     "output_type": "stream",
     "text": [
      "El resultado es: 14.5\n",
      "Fin del programa\n"
     ]
    }
   ],
   "source": [
    "#como ejemplo puse primer numero 29 y segundo 2\n",
    "dividir()"
   ]
  },
  {
   "cell_type": "code",
   "execution_count": 45,
   "metadata": {},
   "outputs": [
    {
     "name": "stdout",
     "output_type": "stream",
     "text": [
      "Mascotas permitidas: ['Perro,', 'Gato', 'Conejo', 'Canario']\n"
     ]
    }
   ],
   "source": [
    "\"\"\"Pregunta 9\n",
    "Escribe una función que tome una lista de nombres de mascotas como parámetro y devuelva una nueva lista excluyendo ciertas mascotas prohibidas en España. \n",
    "La lista de mascotas a excluir es [\"Mapache\", \"Tigre\", \"Serpiente Piton\", \"Cocodrilo\", \"Oso\"].Usa la función filter()\"\"\"\n",
    "\n",
    "mascotas = [\"Perro,\", \"Gato\", \"Conejo\", \"Mapache\", \"Tigre\", \"Canario\", \"Serpiente Piton\", \"Cocodrilo\", \"Oso\"]\n",
    "\n",
    "def filtrar_mascotas_permitidas(lista_mascotas):\n",
    "    mascotas_prohibidas = {\"Mapache\", \"Tigre\", \"Serpiente Piton\", \"Cocodrilo\", \"Oso\"}\n",
    "    return list(filter(lambda mascota: mascota not in mascotas_prohibidas, lista_mascotas))\n",
    "\n",
    "resultado9 = filtrar_mascotas_permitidas(mascotas)\n",
    "print(\"Mascotas permitidas:\", resultado9)"
   ]
  },
  {
   "cell_type": "code",
   "execution_count": null,
   "metadata": {},
   "outputs": [
    {
     "name": "stdout",
     "output_type": "stream",
     "text": [
      "Error: La lista esta vacia, no se puede calcular el promedio\n"
     ]
    }
   ],
   "source": [
    "\"\"\"Pregunta 10\n",
    "Escribe una función que reciba una lista de números y calcule su promedio. Si la lista está vacía, lanza una \n",
    "excepción personalizada y maneja el error adecuadamente.\"\"\"\n",
    "\n",
    "class ListaVaciaError(Exception):\n",
    "    \"\"\"Exception personalizada para listas vacias\"\"\"\n",
    "    pass\n",
    "\n",
    "def calcular_promedio(numeros):\n",
    "    if not numeros:\n",
    "        raise ListaVaciaError(\"Error: La lista esta vacia, no se puede calcular el promedio\")\n",
    "    return sum(numeros) / len(numeros)\n",
    "try:\n",
    "    lista_numeros = [] #Si colocamos numeros dentro de la lista, tendremos el promedio, pero si la dejamos vacia veremos el error.\n",
    "    resultado10 = calcular_promedio(lista_numeros)\n",
    "    print(f\"El promedio es : {resultado10}\")\n",
    "except ListaVaciaError as i:\n",
    "    print(i)"
   ]
  },
  {
   "cell_type": "code",
   "execution_count": null,
   "metadata": {},
   "outputs": [],
   "source": [
    "\"\"\"Pregunta 11\n",
    "Esribe un programa que pida al usuario que introduzca su edad. Si el usuario ingresa un valor no numérico o un valor fuera del rango esperado \n",
    "(por ejemplo, menor que 0 o mayor que 120), maneja las excepciones adecuadamente.\"\"\"\n",
    "\n",
    "def pedir_edad():\n",
    "    try:\n",
    "        edad=int(input(\"Por favor, ingrese su edad\"))\n",
    "        if edad < 0 or edad > 120:\n",
    "            raise ValueError(\"Error:la edad debe estar entre 0 y 120\")\n",
    "    except ValueError as e:\n",
    "        print(f\"Entrada no valida. {e}\")\n",
    "    else:\n",
    "        print(f\"Edad valida: {edad}\")\n",
    "    finally:\n",
    "        print(\"fin del programa\")\n"
   ]
  },
  {
   "cell_type": "code",
   "execution_count": 71,
   "metadata": {},
   "outputs": [
    {
     "name": "stdout",
     "output_type": "stream",
     "text": [
      "Edad valida: 43\n",
      "fin del programa\n"
     ]
    }
   ],
   "source": [
    "pedir_edad()"
   ]
  },
  {
   "cell_type": "code",
   "execution_count": null,
   "metadata": {},
   "outputs": [],
   "source": [
    "\"\"\"Pregunta 12 \n",
    "Genera una función que al recibir una frase devuelva una lista con la longitud de cada palabra. Usa la función map()\"\"\"\n",
    "\n",
    "frase = (\"Estoy aprendiendo Phyton\")\n",
    "\n",
    "def longitud_palabras(frase):\n",
    "    return list(map(len, frase.split()))"
   ]
  },
  {
   "cell_type": "code",
   "execution_count": 74,
   "metadata": {},
   "outputs": [
    {
     "data": {
      "text/plain": [
       "[5, 11, 6]"
      ]
     },
     "execution_count": 74,
     "metadata": {},
     "output_type": "execute_result"
    }
   ],
   "source": [
    "result = longitud_palabras(frase)\n",
    "result"
   ]
  },
  {
   "cell_type": "code",
   "execution_count": null,
   "metadata": {},
   "outputs": [],
   "source": [
    "\"\"\"Pregunta 13\n",
    "Genera una función la cual, para un conjunto de caracteres, devuelva una lista de tuplas con cada letra en mayúsculas y minúsculas.\n",
    "Las letras no pueden estar repetidas .Usa la función map()\"\"\"\n",
    "\n",
    "caracteres = \"python\"\n",
    "\n",
    "def mayusculas_minusculas(conjunto):\n",
    "    return list(map(lambda x: (x.upper(), x.lower()), set(conjunto)))\n"
   ]
  },
  {
   "cell_type": "code",
   "execution_count": 88,
   "metadata": {},
   "outputs": [
    {
     "data": {
      "text/plain": [
       "[('P', 'p'), ('H', 'h'), ('T', 't'), ('N', 'n'), ('O', 'o'), ('Y', 'y')]"
      ]
     },
     "execution_count": 88,
     "metadata": {},
     "output_type": "execute_result"
    }
   ],
   "source": [
    "resultado = mayusculas_minusculas(caracteres)\n",
    "resultado"
   ]
  },
  {
   "cell_type": "code",
   "execution_count": null,
   "metadata": {},
   "outputs": [],
   "source": [
    "\"\"\"Pregunta 14\n",
    "Creaa una función que retorne las palabras de una lista de palabras que comience con una letra en especifico.\n",
    "Usa la función filter()\"\"\"\n",
    "\n",
    "palabras = [\"perro\", \"gato\", \"gusano\", \"paloma\"]\n",
    "letra = \"p\"\n",
    "\n",
    "def palabras_que_comienzan_con(lista_palabras, letra):\n",
    "    return list(filter(lambda palabra: palabra.startswith(letra), lista_palabras))\n"
   ]
  },
  {
   "cell_type": "code",
   "execution_count": 112,
   "metadata": {},
   "outputs": [
    {
     "data": {
      "text/plain": [
       "['perro', 'paloma']"
      ]
     },
     "execution_count": 112,
     "metadata": {},
     "output_type": "execute_result"
    }
   ],
   "source": [
    "resultado14 = palabras_que_comienzan_con(palabras, letra)\n",
    "resultado14"
   ]
  },
  {
   "cell_type": "code",
   "execution_count": 121,
   "metadata": {},
   "outputs": [],
   "source": [
    "#Pregunta 15 - Crea una función lambda que sume 3 a cada número de una lista dada.\n",
    "numeros = [4,5,7,8,11]\n",
    "\n",
    "def sumar_tres(lista):\n",
    "    return list(map(lambda x: x + 3, lista))"
   ]
  },
  {
   "cell_type": "code",
   "execution_count": 122,
   "metadata": {},
   "outputs": [
    {
     "data": {
      "text/plain": [
       "[7, 8, 10, 11, 14]"
      ]
     },
     "execution_count": 122,
     "metadata": {},
     "output_type": "execute_result"
    }
   ],
   "source": [
    "resultado = sumar_tres(numeros)\n",
    "resultado"
   ]
  },
  {
   "cell_type": "code",
   "execution_count": null,
   "metadata": {},
   "outputs": [],
   "source": [
    "\"\"\"Pregunta 16 \n",
    "Esribe una función que tome una cadena de texto y un número entero n como parámetros y devuelva una lista de\n",
    "todas las palabras que sean más largas que n. Usa la función filter\"\"\"\n",
    "\n",
    "texto = \"Este es el ejercicio decimo sexto del proyecto\"\n",
    "n = 4\n",
    "\n",
    "def palabras_mas_largas(cadena, n):\n",
    "    return list(filter(lambda palabra: len(palabra) > n, cadena.split()))"
   ]
  },
  {
   "cell_type": "code",
   "execution_count": 124,
   "metadata": {},
   "outputs": [
    {
     "data": {
      "text/plain": [
       "['ejercicio', 'decimo', 'sexto', 'proyecto']"
      ]
     },
     "execution_count": 124,
     "metadata": {},
     "output_type": "execute_result"
    }
   ],
   "source": [
    "resultado = palabras_mas_largas(texto, n)\n",
    "resultado"
   ]
  },
  {
   "cell_type": "code",
   "execution_count": null,
   "metadata": {},
   "outputs": [],
   "source": [
    "\"\"\"Pregunta 17 \n",
    "Crea una función que tome una lista de dígitos y devuelva el número correspondiente. \n",
    "Por ejemplo, 5,7,2 corresponde al número quinientos setenta y dos 572. Usa la función reduce()\"\"\"\n",
    "\n",
    "from functools import reduce\n",
    "digitos = [5, 7, 2]\n",
    "\n",
    "def lista_a_numero(digitos):\n",
    "    return reduce(lambda x, y: x*10 +y, digitos)"
   ]
  },
  {
   "cell_type": "code",
   "execution_count": 132,
   "metadata": {},
   "outputs": [
    {
     "data": {
      "text/plain": [
       "572"
      ]
     },
     "execution_count": 132,
     "metadata": {},
     "output_type": "execute_result"
    }
   ],
   "source": [
    "numero = lista_a_numero(digitos)\n",
    "numero"
   ]
  },
  {
   "cell_type": "code",
   "execution_count": 19,
   "metadata": {},
   "outputs": [
    {
     "name": "stdout",
     "output_type": "stream",
     "text": [
      "[{'nombre': 'Maria', 'edad': 25, 'calificacion': 93}, {'nombre': 'Pepe', 'edad': 34, 'calificacion': 91}]\n"
     ]
    }
   ],
   "source": [
    "\"\"\"Pregunta 18\n",
    "Esribe un programa en Python que cree una lista de diccionarios que contenga información de estudiantes (nombre, edad, calificación) \n",
    "y use la función filter para extraer a los estudiantes con una calificación mayor o igual a 90. \n",
    "Usa la función filter()\"\"\"\n",
    "\n",
    "estudiantes = [\n",
    "    {'nombre': 'Luis', 'edad': 20, 'calificacion': 75},\n",
    "    {'nombre': 'Maria', 'edad': 25, 'calificacion': 93},\n",
    "    {'nombre': 'Pepe', 'edad': 34, 'calificacion': 91},\n",
    "    {'nombre': 'Diana', 'edad': 30, 'calificacion': 86}\n",
    "]\n",
    "\n",
    "def estudiantes_calificacion(estudiantes):\n",
    "    \"\"\"Devuelve una lista de estudiantes con calificación mayor o igual a 90.\"\"\"\n",
    "    return [estudiante for estudiante in estudiantes if estudiante['calificacion'] >= 90]\n",
    "\n",
    "print(estudiantes_calificacion(estudiantes))"
   ]
  },
  {
   "cell_type": "code",
   "execution_count": 139,
   "metadata": {},
   "outputs": [],
   "source": [
    "#Pregunta 19 Crea una función lambda que filtre los números impares de una lista dada.\n",
    "\n",
    "numeros = [ 2,3,6,7,8,12,13]\n",
    "\n",
    "def filtrar_impares(lista):\n",
    "    return list(filter(lambda x: x%2 != 0, lista))"
   ]
  },
  {
   "cell_type": "code",
   "execution_count": 140,
   "metadata": {},
   "outputs": [
    {
     "data": {
      "text/plain": [
       "[3, 7, 13]"
      ]
     },
     "execution_count": 140,
     "metadata": {},
     "output_type": "execute_result"
    }
   ],
   "source": [
    "resultado = filtrar_impares(numeros)\n",
    "resultado"
   ]
  },
  {
   "cell_type": "code",
   "execution_count": null,
   "metadata": {},
   "outputs": [],
   "source": [
    "\"\"\"Pregunta 20 \n",
    "Crea una lista con elementos tipo integer y string obtén una nueva lista sólo con los valores int.\n",
    "Usa la función filter()\"\"\"\n",
    "\n",
    "lista = [ 7, \"Python\", 29, 8, \"ejercicios\"]\n",
    "\n",
    "def filtrar_enteros(lista):\n",
    "    return list(filter(lambda x: isinstance(x, int), lista))\n"
   ]
  },
  {
   "cell_type": "code",
   "execution_count": 142,
   "metadata": {},
   "outputs": [
    {
     "data": {
      "text/plain": [
       "[7, 29, 8]"
      ]
     },
     "execution_count": 142,
     "metadata": {},
     "output_type": "execute_result"
    }
   ],
   "source": [
    "resultado = filtrar_enteros(lista)\n",
    "resultado"
   ]
  },
  {
   "cell_type": "code",
   "execution_count": 146,
   "metadata": {},
   "outputs": [],
   "source": [
    "#Pregunta 21 Creaa una función que calcule el cubo de un número dado mediante una función lambda\n",
    "\n",
    "numero = 7\n",
    "\n",
    "def numero_al_cubo(numero):\n",
    "    return (lambda x: x**3)(numero)"
   ]
  },
  {
   "cell_type": "code",
   "execution_count": 151,
   "metadata": {},
   "outputs": [
    {
     "data": {
      "text/plain": [
       "343"
      ]
     },
     "execution_count": 151,
     "metadata": {},
     "output_type": "execute_result"
    }
   ],
   "source": [
    "resultado = numero_al_cubo(numero)\n",
    "resultado"
   ]
  },
  {
   "cell_type": "code",
   "execution_count": 152,
   "metadata": {},
   "outputs": [],
   "source": [
    "#Pregunta 22 Crea una lista numérica, obtén el producto total de los valores de dicha lista.Usa la función reduce().\n",
    "\n",
    "from functools import reduce\n",
    "lista = [4,5,6,2,3]\n",
    "\n",
    "def producto_total(lista):\n",
    "    return reduce(lambda x,y : x*y, lista)\n",
    "\n"
   ]
  },
  {
   "cell_type": "code",
   "execution_count": 153,
   "metadata": {},
   "outputs": [
    {
     "data": {
      "text/plain": [
       "720"
      ]
     },
     "execution_count": 153,
     "metadata": {},
     "output_type": "execute_result"
    }
   ],
   "source": [
    "resultado = producto_total(lista)\n",
    "resultado"
   ]
  },
  {
   "cell_type": "code",
   "execution_count": 154,
   "metadata": {},
   "outputs": [],
   "source": [
    "#Pregunta 23 Concatena una lista de palabras.Usa la función reduce().\n",
    "\n",
    "from functools import reduce\n",
    "\n",
    "palabras = [\"Hola\", \"me\", \"llamo\", \"Emilio\"]\n",
    "\n",
    "def concatenar_palabra(lista):\n",
    "    return reduce(lambda x, y: x+\" \"+ y, lista)"
   ]
  },
  {
   "cell_type": "code",
   "execution_count": 156,
   "metadata": {},
   "outputs": [
    {
     "data": {
      "text/plain": [
       "'Hola me llamo Emilio'"
      ]
     },
     "execution_count": 156,
     "metadata": {},
     "output_type": "execute_result"
    }
   ],
   "source": [
    "resultado = concatenar_palabra(palabras)\n",
    "resultado"
   ]
  },
  {
   "cell_type": "code",
   "execution_count": 157,
   "metadata": {},
   "outputs": [],
   "source": [
    "#Pregunta 24 Calcula la diferencia total en los valores de una lista. Usa la función reduce().\n",
    "\n",
    "from functools import reduce\n",
    "numeros = [88, 15, 25, 6]\n",
    "\n",
    "def diferencia_total(lista):\n",
    "    return reduce(lambda x, y: x-y, lista)\n",
    "\n",
    "resultado = diferencia_total(numeros)"
   ]
  },
  {
   "cell_type": "code",
   "execution_count": 158,
   "metadata": {},
   "outputs": [
    {
     "data": {
      "text/plain": [
       "42"
      ]
     },
     "execution_count": 158,
     "metadata": {},
     "output_type": "execute_result"
    }
   ],
   "source": [
    "resultado"
   ]
  },
  {
   "cell_type": "code",
   "execution_count": null,
   "metadata": {},
   "outputs": [],
   "source": [
    "#Pregunta 25 Crea una función que cuente el número de caracteres en una cadena de texto dada.\n",
    "\n",
    "texto = \"Soy analista de datos\"\n",
    "\n",
    "def contar_caracteres(cadena):\n",
    "    return len(cadena)\n",
    "\n",
    "resultado = contar_caracteres(texto)"
   ]
  },
  {
   "cell_type": "code",
   "execution_count": 160,
   "metadata": {},
   "outputs": [
    {
     "data": {
      "text/plain": [
       "21"
      ]
     },
     "execution_count": 160,
     "metadata": {},
     "output_type": "execute_result"
    }
   ],
   "source": [
    "resultado"
   ]
  },
  {
   "cell_type": "code",
   "execution_count": 177,
   "metadata": {},
   "outputs": [],
   "source": [
    "#Pregunta 26 Crea una función lambda que calcule el resto de la división entre dos números dados.\n",
    "\n",
    "resto_division = lambda x, y: x % y\n",
    "\n",
    "resultado = resto_division(28,3)\n",
    "\n"
   ]
  },
  {
   "cell_type": "code",
   "execution_count": 178,
   "metadata": {},
   "outputs": [
    {
     "data": {
      "text/plain": [
       "1"
      ]
     },
     "execution_count": 178,
     "metadata": {},
     "output_type": "execute_result"
    }
   ],
   "source": [
    "resultado"
   ]
  },
  {
   "cell_type": "code",
   "execution_count": 182,
   "metadata": {},
   "outputs": [],
   "source": [
    "#Pregunta 27 Crea una función que calcule el promedio de una lista de números.\n",
    "\n",
    "numeros = [10,20,30,40,50]\n",
    "\n",
    "def calcular_promedio(lista):\n",
    "    if len(lista) == 0:\n",
    "        return None\n",
    "    if len(lista) > 0:\n",
    "        return sum(lista) / len(lista)\n",
    "    \n",
    "resultado = calcular_promedio(numeros)"
   ]
  },
  {
   "cell_type": "code",
   "execution_count": 183,
   "metadata": {},
   "outputs": [
    {
     "data": {
      "text/plain": [
       "30.0"
      ]
     },
     "execution_count": 183,
     "metadata": {},
     "output_type": "execute_result"
    }
   ],
   "source": [
    "resultado"
   ]
  },
  {
   "cell_type": "code",
   "execution_count": 184,
   "metadata": {},
   "outputs": [],
   "source": [
    "#Pregunta 28 Crea una función que busque y devuelva el primer elemento duplicado en una lista dada\n",
    "\n",
    "numeros = [ 2,3,4,5,1,2,5,3,8]\n",
    "\n",
    "def primer_duplicado(lista):\n",
    "    vistos = set()\n",
    "    for num in lista:\n",
    "        if num in vistos:\n",
    "            return num\n",
    "        vistos.add(num)\n",
    "    return None"
   ]
  },
  {
   "cell_type": "code",
   "execution_count": 186,
   "metadata": {},
   "outputs": [
    {
     "name": "stdout",
     "output_type": "stream",
     "text": [
      "2\n"
     ]
    }
   ],
   "source": [
    "print(primer_duplicado(numeros))"
   ]
  },
  {
   "cell_type": "code",
   "execution_count": null,
   "metadata": {},
   "outputs": [],
   "source": [
    "\"\"\"Pregunta 29 \n",
    "Crea una función que convierta una variable en una cadena de texto y enmascare todos los caracteres con el carácter '#', \n",
    "excepto los últimos cuatro.\"\"\"\n",
    "\n",
    "texto = \"contraseña\"\n",
    "\n",
    "def enmascarar(variable):\n",
    "    variable_str = str(variable)\n",
    "    longitud = len(variable_str)\n",
    " \n",
    "    enmascarado = \"#\" * (longitud -4) + variable_str[-4:]\n",
    "    return enmascarado\n"
   ]
  },
  {
   "cell_type": "code",
   "execution_count": 200,
   "metadata": {},
   "outputs": [
    {
     "name": "stdout",
     "output_type": "stream",
     "text": [
      "######seña\n"
     ]
    }
   ],
   "source": [
    "print(enmascarar(texto))"
   ]
  },
  {
   "cell_type": "code",
   "execution_count": null,
   "metadata": {},
   "outputs": [],
   "source": [
    "\"\"\"Pregunta 30 \n",
    "Crea una función que determine si dos palabras son anagramas, es decir, si están formadas por las mismas letras pero en diferente orden.\"\"\"\n",
    "\n",
    "\n",
    "palabra1 = \"amor\"\n",
    "palabra2 = \"mora\"\n",
    "def son_anagramas(palabra1, palabra2):\n",
    "    return sorted(palabra1.lower()) == sorted(palabra2.lower())"
   ]
  },
  {
   "cell_type": "code",
   "execution_count": 208,
   "metadata": {},
   "outputs": [
    {
     "name": "stdout",
     "output_type": "stream",
     "text": [
      "True\n"
     ]
    }
   ],
   "source": [
    "print(son_anagramas(palabra1, palabra2))"
   ]
  },
  {
   "cell_type": "code",
   "execution_count": null,
   "metadata": {},
   "outputs": [],
   "source": [
    "\"\"\"Pregunta 31 \n",
    "Crea una función que solicite al usuario ingresar una lista de nombres y luego solicite un nombre para buscar en esa lista.\n",
    "Si el nombre está en la lista, se imprime un mensaje indicando que fue encontrado, de lo contrario, se lanza una excepción\"\"\"\n",
    "\n",
    "\n",
    "def buscar_nombre():\n",
    "    try: \n",
    "        nombres = [\"David\", \"Juan\", \"Maria\", \"Lola\", \"Luis\", \"Pedro\"]\n",
    "        nombre_buscar = input(\"Ingrese el nombre que desea buscar\").strip()\n",
    "        if nombre_buscar in nombres:\n",
    "           print(f\"El nombre {nombre_buscar} fue encontrato en la lista\")\n",
    "        else:\n",
    "           raise ValueError(f\"El nombre {nombre_buscar} no esta en la lista\")\n",
    "    except ValueError as e:\n",
    "        print(f\"Error: {e}\")\n"
   ]
  },
  {
   "cell_type": "code",
   "execution_count": 225,
   "metadata": {},
   "outputs": [
    {
     "name": "stdout",
     "output_type": "stream",
     "text": [
      "El nombre Juan fue encontrato en la lista\n"
     ]
    }
   ],
   "source": [
    "buscar_nombre()"
   ]
  },
  {
   "cell_type": "code",
   "execution_count": null,
   "metadata": {},
   "outputs": [],
   "source": [
    "\"\"\"Pregunta 32 Crea una función que tome un nombre completo y una lista de empleados, busque el nombre completo en la lista \n",
    "y devuelve el puesto del empleado si está en la lista, de lo contrario, devuelve un mensaje indicando que la persona no trabaja aquí.\"\"\"\n",
    "\n",
    "empleados = {\"Luis Cid\": \"Gerente\", \n",
    "              \"Ana Lopez\": \"Analista de datos\",\n",
    "              \"Juan Rodriguez\": \"Contador\",\n",
    "              \"Pedro Gomez\": \"Desarrollador\"}\n",
    "\n",
    "def buscar_puesto(nombre, empleados):\n",
    "    if nombre in empleados:\n",
    "        return (f\"{nombre} trabaja como {empleados[nombre]}.\")\n",
    "    else:\n",
    "        return (f\"{nombre} no trabaja aqui.\")\n"
   ]
  },
  {
   "cell_type": "code",
   "execution_count": 233,
   "metadata": {},
   "outputs": [
    {
     "name": "stdout",
     "output_type": "stream",
     "text": [
      "Ana Lopez trabaja como Analista de datos.\n",
      "Miguel Lopez no trabaja aqui.\n"
     ]
    }
   ],
   "source": [
    "print(buscar_puesto(\"Ana Lopez\", empleados))\n",
    "print(buscar_puesto(\"Miguel Lopez\", empleados))"
   ]
  },
  {
   "cell_type": "code",
   "execution_count": 235,
   "metadata": {},
   "outputs": [],
   "source": [
    "#Pregunta 33  Crea una función lambda que sume elementos correspondientes de dos listas dadas.\n",
    "\n",
    "lista1 = [2,3,4,5]\n",
    "lista2 = [4,13,56,32]\n",
    "\n",
    "sumar_listas = lambda lista1, lista2: list(map(lambda x, y: x+y, lista1, lista2))\n",
    "\n",
    "resultado = sumar_listas(lista1,lista2)"
   ]
  },
  {
   "cell_type": "code",
   "execution_count": 236,
   "metadata": {},
   "outputs": [
    {
     "data": {
      "text/plain": [
       "[6, 16, 60, 37]"
      ]
     },
     "execution_count": 236,
     "metadata": {},
     "output_type": "execute_result"
    }
   ],
   "source": [
    "resultado"
   ]
  },
  {
   "cell_type": "code",
   "execution_count": null,
   "metadata": {},
   "outputs": [
    {
     "name": "stdout",
     "output_type": "stream",
     "text": [
      "Longitud del tronco: 2\n",
      "Número de ramas: 2\n",
      "Longitudes de las ramas: [2, 1]\n"
     ]
    }
   ],
   "source": [
    "\"\"\"Pregunta 34 Crea la clase Arbol , define un árbol genérico con un tronco y ramas como atributos. \n",
    "Los métodos disponibles son:crecer_tronco , nueva_rama , crecer_ramas , quitar_rama e info_arbol . \n",
    "El objetivo es implementar estos métodos para manipular la estructura del árbol.\"\"\"\n",
    "\n",
    "class Arbol:\n",
    "    def __init__(self):\n",
    "        \"\"\"Inicializa el árbol con un tronco y sin ramas.\"\"\"\n",
    "        self.tronco = 1\n",
    "        self.ramas = []\n",
    "\n",
    "    def crecer_tronco(self):\n",
    "        \"\"\"Incrementa la longitud del tronco.\"\"\"\n",
    "        self.tronco += 1\n",
    "\n",
    "    def nueva_rama(self):\n",
    "        \"\"\"Añade una nueva rama con longitud 1.\"\"\"\n",
    "        self.ramas.append(1)\n",
    "        \n",
    "    def crecer_ramas(self):\n",
    "        \"\"\"Incrementa la longitud de cada rama en 1.\"\"\"\n",
    "        self.ramas = [rama + 1 for rama in self.ramas]\n",
    "\n",
    "    def quitar_rama(self, posicion):\n",
    "        \"\"\"Elimina una rama en la posición dada si es válida.\"\"\"\n",
    "        if 0 <= posicion < len(self.ramas):\n",
    "            self.ramas.pop(posicion)\n",
    "        else:\n",
    "            print(\"Posición inválida\")\n",
    "    \n",
    "    def info_arbol(self):\n",
    "        \"\"\"Imprime la información del árbol en lugar de retornarla.\"\"\"\n",
    "        print(f\"Longitud del tronco: {self.tronco}\")\n",
    "        print(f\"Número de ramas: {len(self.ramas)}\")\n",
    "        print(f\"Longitudes de las ramas: {self.ramas}\")\n",
    "\n",
    "\n",
    "arbol = Arbol()\n",
    "arbol.crecer_tronco()\n",
    "arbol.nueva_rama()\n",
    "arbol.crecer_ramas()\n",
    "arbol.nueva_rama()\n",
    "arbol.nueva_rama()\n",
    "arbol.quitar_rama(2)\n",
    "arbol.info_arbol()"
   ]
  },
  {
   "cell_type": "code",
   "execution_count": null,
   "metadata": {},
   "outputs": [],
   "source": [
    "\"\"\"Pregunta 36 Crea la clase UsuarioBanco ,representa a un usuario de un banco con su nombre, \n",
    "saldo y si tiene o no cuenta corriente. Proporciona métodos para realizar operaciones como retirar dinero, \n",
    "transferir dinero desde otro usuario y agregar dinero al saldo.\"\"\"\n",
    "\n",
    "class UsuarioBanco:\n",
    "    def __init__(self, nombre, saldo, cuenta_corriente=True):\n",
    "        \"\"\"Inicializa un usuario del banco con nombre, saldo y si tiene cuenta corriente.\"\"\"\n",
    "        self.nombre = nombre\n",
    "        self.saldo = saldo\n",
    "        self.cuenta_corriente = cuenta_corriente\n",
    "\n",
    "    def retirar_dinero(self, cantidad):\n",
    "        \"\"\"Retira dinero de la cuenta si hay saldo suficiente.\"\"\"\n",
    "        if cantidad > self.saldo:\n",
    "            raise ValueError(\"Saldo insuficiente para realizar el retiro.\")\n",
    "        self.saldo -= cantidad\n",
    "\n",
    "    def transferir_dinero(self, otro_usuario, cantidad):\n",
    "        \"\"\"Transfiere dinero a otro usuario si hay saldo suficiente.\"\"\"\n",
    "        if cantidad > self.saldo:\n",
    "            raise ValueError(\"Saldo insuficiente para realizar la transferencia.\")\n",
    "        self.saldo -= cantidad\n",
    "        otro_usuario.agregar_dinero(cantidad)\n",
    "\n",
    "    def agregar_dinero(self, cantidad):\n",
    "        \"\"\"Agrega dinero al saldo del usuario.\"\"\"\n",
    "        self.saldo += cantidad\n",
    "\n",
    "\n",
    "alicia = UsuarioBanco(\"Alicia\", 100, True)\n",
    "bob = UsuarioBanco(\"Bob\", 50, True)\n",
    "\n",
    "bob.agregar_dinero(20)\n",
    "alicia.retirar_dinero(50)\n",
    "bob.transferir_dinero(alicia, 80)\n",
    "\n"
   ]
  },
  {
   "cell_type": "code",
   "execution_count": 42,
   "metadata": {},
   "outputs": [
    {
     "name": "stdout",
     "output_type": "stream",
     "text": [
      "Alicia: 50\n",
      "Bob: 70\n"
     ]
    }
   ],
   "source": [
    "print(f\"{alicia.nombre}: {alicia.saldo}\")\n",
    "print(f\"{bob.nombre}: {bob.saldo}\")"
   ]
  },
  {
   "cell_type": "code",
   "execution_count": null,
   "metadata": {},
   "outputs": [],
   "source": [
    "\"\"\"Pregunta 37 Crea una función llamada procesar_texto que procesa un texto según la opción especificada: \n",
    "contar_palabras, reemplazar_palabras, eliminar_palabra. \n",
    "Estas opciones son otras funciones que tenemos que definir primero y llamar dentro de la función procesar_texto.\"\"\"\n",
    "\n",
    "\n",
    "def contar_palabras(texto):\n",
    "    palabras = texto.split()\n",
    "    frecuencia = {}\n",
    "    for palabra in palabras:\n",
    "        frecuencia[palabra] = frecuencia.get(palabra, 0) + 1\n",
    "    return frecuencia\n",
    "\n",
    "def reemplazar_palabras(texto, palabra_original, palabra_nueva):\n",
    "    return texto.replace(palabra_original, palabra_nueva)\n",
    "\n",
    "def eliminar_palabra(texto, palabra_eliminar):\n",
    "    palabras = texto.split()\n",
    "    palabras_filtradas = [palabra for palabra in palabras if palabra != palabra_eliminar]\n",
    "    return \" \".join(palabras_filtradas)\n",
    "\n",
    "def procesar_texto(texto, opcion, *args):\n",
    "    if opcion == \"contar\":\n",
    "        return contar_palabras(texto)\n",
    "    elif opcion ==  \"reemplazar\" and len(args) == 2:\n",
    "        return reemplazar_palabras(texto, args[0], args[1])\n",
    "    elif opcion == \"eliminar\" and len(args) == 1:\n",
    "        return eliminar_palabra(texto, args [0])\n",
    "    else:\n",
    "        return \"Opcion no valida o argumentos incorrectos\"\n",
    "    \n",
    "texto = \"la niña vivia en la casa\"\n",
    "\n",
    "    \n",
    "                   \n"
   ]
  },
  {
   "cell_type": "code",
   "execution_count": 260,
   "metadata": {},
   "outputs": [
    {
     "name": "stdout",
     "output_type": "stream",
     "text": [
      "{'la': 2, 'niña': 1, 'vivia': 1, 'en': 1, 'casa': 1}\n",
      "la perra vivia en la casa\n",
      "niña vivia en casa\n"
     ]
    }
   ],
   "source": [
    "print(procesar_texto(texto, \"contar\"))\n",
    "print(procesar_texto(texto, \"reemplazar\", \"niña\", \"perra\"))\n",
    "print(procesar_texto(texto, \"eliminar\", \"la\"))\n",
    "                     "
   ]
  },
  {
   "cell_type": "code",
   "execution_count": 268,
   "metadata": {},
   "outputs": [
    {
     "name": "stdout",
     "output_type": "stream",
     "text": [
      "Es de tarde.\n"
     ]
    }
   ],
   "source": [
    "#Pregunta 38 Genera un programa que nos diga si es de noche, de día o tarde según la hora proporcionada por el usuario.\n",
    "\n",
    "def determinar_momento_dia(hora):\n",
    "    if 6 <= hora < 12:\n",
    "       return \"Es de dia (mañana).\"\n",
    "    elif 12 <= hora < 18:\n",
    "        return \"Es de tarde.\"\n",
    "    elif (18 <= hora <= 23) or (0 <= hora < 6):\n",
    "        return \"Es de noche.\"\n",
    "    else:\n",
    "        return \"Hora no valida. Ingresa un numero entre 0 y 23\"\n",
    "    \n",
    "try:\n",
    "    hora_usuario = int(input(\"Ingresa la hora (0-23): \"))\n",
    "    print(determinar_momento_dia(hora_usuario))\n",
    "except ValueError:\n",
    "    print(\"Error: Ingresa un número entero válido.\")\n",
    "    "
   ]
  },
  {
   "cell_type": "code",
   "execution_count": null,
   "metadata": {},
   "outputs": [
    {
     "name": "stdout",
     "output_type": "stream",
     "text": [
      "Tu calificacion es :  Muy bien\n"
     ]
    }
   ],
   "source": [
    "\"\"\"Pregunta 39 Escribe un programa que determine qué calificación en texto tiene un alumno en base a su calificación \n",
    "numérica. Las reglas de calificación son:\"\"\"\n",
    "\n",
    "def determinar_calificacion(nota):\n",
    "    if 0 <= nota <= 69:\n",
    "        return \"Insuficiente\"\n",
    "    elif 70 <= nota <= 79:\n",
    "        return \"Bien\"\n",
    "    elif 80 <= nota <= 89:\n",
    "        return \" Muy bien\"\n",
    "    elif 90 <= nota <=100:\n",
    "        return \"Excelente\"\n",
    "    else:\n",
    "        return \"Calificacion fuera de rango. Ingrese un numero entre 0 y 100.\"\n",
    "    \n",
    "try:\n",
    "    calificacion = int(input(\"Ingresa tu calificacion (0-100):\"))\n",
    "    print(f\"Tu calificacion es : {determinar_calificacion(calificacion)}\")\n",
    "except ValueError:\n",
    "    print(\"Error: Ingresa un numero entero valido\")"
   ]
  },
  {
   "cell_type": "code",
   "execution_count": 43,
   "metadata": {},
   "outputs": [
    {
     "name": "stdout",
     "output_type": "stream",
     "text": [
      "113.09733552923255\n",
      "16.0\n",
      "18\n",
      "Error: Figura no reconocida. Usa 'rectángulo', 'triángulo' o 'círculo'.\n"
     ]
    }
   ],
   "source": [
    "\"\"\"Pregunta 40 Escribe una función que tome dos parámetros: figura (una cadena que puede ser \"rectangulo\", \n",
    "\"circulo\" o \"triangulo\") y datos (una tupla con los datos necesarios para calcular el área de la figura).\"\"\"\n",
    "\n",
    "\n",
    "import math\n",
    "\n",
    "def calcular_area(figura, datos):\n",
    "    figura = figura.lower()\n",
    "    if figura == \"rectangulo\":\n",
    "        if len(datos) == 2 and all(d > 0 for d in datos):\n",
    "            base, altura = datos\n",
    "            return base * altura\n",
    "        else:\n",
    "            return \"Error: El rectángulo requiere base y altura positivos.\"\n",
    "        \n",
    "    elif figura == \"circulo\":\n",
    "        if len(datos) == 1 and datos[0] > 0:\n",
    "            radio, = datos\n",
    "            return math.pi * (radio ** 2)\n",
    "        else:\n",
    "            return \"Error: El círculo requiere un radio positivo.\"\n",
    "        \n",
    "    elif figura == \"triangulo\":\n",
    "        if len(datos) == 2 and all(d > 0 for d in datos):\n",
    "            base, altura = datos\n",
    "            return (base * altura) / 2\n",
    "        else:\n",
    "            return \"Error: El triángulo requiere base y altura positivos.\"\n",
    "        \n",
    "    else:\n",
    "        return \"Error: Figura no reconocida. Usa 'rectángulo', 'triángulo' o 'círculo'.\"\n",
    "\n",
    "print(calcular_area(\"circulo\", (6,)))\n",
    "print(calcular_area(\"triangulo\", (4, 8)))\n",
    "print(calcular_area(\"rectangulo\", (3, 6)))\n",
    "print(calcular_area(\"cuadrado\", (2, 2)))\n"
   ]
  },
  {
   "cell_type": "code",
   "execution_count": 283,
   "metadata": {},
   "outputs": [
    {
     "name": "stdout",
     "output_type": "stream",
     "text": [
      "Descuento aplicado: 4.0€\n",
      "El precio final de la compra es: 16.00€\n"
     ]
    }
   ],
   "source": [
    "#Pregunta 41\n",
    "\n",
    "try:\n",
    "    precio_original = float(input(\"Ingresa el precio original del articulo: \"))\n",
    "    tiene_cupon = input(\"¿Tienes un cupon de descuento? (si/no): \").strip().lower()\n",
    "\n",
    "    if tiene_cupon ==\"si\" or tiene_cupon == \"si\":\n",
    "        descuento = float(input(\"Ingresa el valor del cupon de descuento: \"))\n",
    "        if descuento > 0:\n",
    "            precio_final = precio_original - descuento\n",
    "            if precio_final < 0:\n",
    "                precio_final = 0 \n",
    "            print(f\"Descuento aplicado: {descuento}€\")\n",
    "        else:\n",
    "            precio_final = precio_original\n",
    "            print(\"El valor del cupon no es valido, no se aplicara descuento.\")\n",
    "    else:\n",
    "        precio_final = precio_original\n",
    "    print(f\"El precio final de la compra es: {precio_final:.2f}€\")\n",
    "\n",
    "except ValueError:\n",
    "    print(\"Error: Ingresa valores numeros validos para el precio y el descuento.\")\n"
   ]
  }
 ],
 "metadata": {
  "kernelspec": {
   "display_name": "Python 3",
   "language": "python",
   "name": "python3"
  },
  "language_info": {
   "codemirror_mode": {
    "name": "ipython",
    "version": 3
   },
   "file_extension": ".py",
   "mimetype": "text/x-python",
   "name": "python",
   "nbconvert_exporter": "python",
   "pygments_lexer": "ipython3",
   "version": "3.11.9"
  }
 },
 "nbformat": 4,
 "nbformat_minor": 2
}
